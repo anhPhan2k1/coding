{
 "cells": [
  {
   "cell_type": "code",
   "execution_count": 2,
   "metadata": {},
   "outputs": [],
   "source": [
    "# import the necessary packages\n",
    "import argparse\n",
    "import imutils\n",
    "import cv2\n",
    "\n"
   ]
  },
  {
   "cell_type": "code",
   "execution_count": 7,
   "metadata": {},
   "outputs": [],
   "source": [
    "add= \"/home/anhp/Documents/coding/learnOpenCV/tetris_blocks.png\"\n",
    "image= cv2.imread(add)"
   ]
  },
  {
   "cell_type": "code",
   "execution_count": null,
   "metadata": {},
   "outputs": [],
   "source": [
    "import numpy as np\n",
    "import cv2\n",
    "import matplotlib.pyplot as plt\n",
    "%matplotlib inline\n",
    "\n",
    "#reading images in grayscale format\n",
    "image1 = cv2.imread('39.jpg',0)\n",
    "image2 = cv2.imread('tetris_blocks.png',0)\n",
    "\n",
    "\n",
    "\n",
    "#finding out the keypoints and their descriptors\n",
    "keypoints1,descriptors1 = cv2.detectAndCompute(image1,None)\n",
    "keypoints2,descriptors2 = cv2.detectAndCompute(image2,None)\n",
    "\n",
    "#matching the descriptors from both the images \n",
    "bf = cv2.BFMatcher()\n",
    "matches = bf.knnMatch(ds1,ds2,k = 2)\n",
    "\n",
    "\n",
    "#selecting only the good features\n",
    "good_matches = []\n",
    "for m,n in matches:\n",
    "    if m.distance < 0.75*n.distance:\n",
    "        good.append([m])\n",
    "\n",
    "image3 = cv2.drawMatchesKnn(image1,kp1,image2,kp2,good,flags = 2)"
   ]
  },
  {
   "cell_type": "code",
   "execution_count": null,
   "metadata": {},
   "outputs": [],
   "source": []
  }
 ],
 "metadata": {
  "interpreter": {
   "hash": "859d3266dcd9158abf12c1c69da1123278ef19c9be4d2fb16ad1b8ac98392cfd"
  },
  "kernelspec": {
   "display_name": "Python 3.10.0 ('cv')",
   "language": "python",
   "name": "python3"
  },
  "language_info": {
   "codemirror_mode": {
    "name": "ipython",
    "version": 3
   },
   "file_extension": ".py",
   "mimetype": "text/x-python",
   "name": "python",
   "nbconvert_exporter": "python",
   "pygments_lexer": "ipython3",
   "version": "3.10.0"
  },
  "orig_nbformat": 4
 },
 "nbformat": 4,
 "nbformat_minor": 2
}
